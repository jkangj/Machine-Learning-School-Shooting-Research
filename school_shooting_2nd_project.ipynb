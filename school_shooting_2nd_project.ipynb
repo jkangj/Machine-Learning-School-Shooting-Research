{
  "nbformat": 4,
  "nbformat_minor": 0,
  "metadata": {
    "colab": {
      "provenance": [],
      "gpuType": "T4"
    },
    "kernelspec": {
      "name": "python3",
      "display_name": "Python 3"
    },
    "language_info": {
      "name": "python"
    },
    "accelerator": "GPU"
  },
  "cells": [
    {
      "cell_type": "markdown",
      "source": [
        "# Installing XGBoost"
      ],
      "metadata": {
        "id": "v-r6WoNpeT8M"
      }
    },
    {
      "cell_type": "code",
      "execution_count": null,
      "metadata": {
        "id": "ByWuXmaaNaLo",
        "colab": {
          "base_uri": "https://localhost:8080/"
        },
        "outputId": "73773f87-6d50-41f3-d319-75c22bcfbab0"
      },
      "outputs": [
        {
          "output_type": "stream",
          "name": "stdout",
          "text": [
            "\u001b[31mERROR: Could not find a version that satisfies the requirement upgrade (from versions: none)\u001b[0m\u001b[31m\n",
            "\u001b[0m\u001b[31mERROR: No matching distribution found for upgrade\u001b[0m\u001b[31m\n",
            "\u001b[0m"
          ]
        }
      ],
      "source": [
        "pip install -- upgrade xgboost\n"
      ]
    },
    {
      "cell_type": "markdown",
      "source": [
        "# Importing libaries and datasets"
      ],
      "metadata": {
        "id": "2oIRq45GJ2E2"
      }
    },
    {
      "cell_type": "code",
      "source": [
        "# Importing Seaborn for data visualization\n",
        "import seaborn as sns\n",
        "\n",
        "# Importing Pandas for data manipulation\n",
        "import pandas as pd\n",
        "\n",
        "# Importing NumPy for numerical computations\n",
        "import numpy as np\n",
        "\n",
        "# Importing Matplotlib for plotting\n",
        "import matplotlib.pyplot as plt\n",
        "\n",
        "# Importing train_test_split from scikit-learn for splitting data\n",
        "from sklearn.model_selection import train_test_split\n",
        "\n",
        "# Importing XGBoost for gradient boosting\n",
        "import xgboost as xgb\n",
        "\n",
        "# Importing ensemble module from scikit-learn for ensemble methods\n",
        "from sklearn import ensemble\n",
        "\n",
        "# Importing OneHotEncoder for categorical feature encoding\n",
        "from sklearn.preprocessing import OneHotEncoder\n",
        "\n",
        "# Importing LabelEncoder for label encoding\n",
        "from sklearn.preprocessing import LabelEncoder\n",
        "\n",
        "# Importing mean_squared_error for evaluating model performance\n",
        "from sklearn.metrics import mean_squared_error\n",
        "\n",
        "# Import warnings module and a filter to ignore warnings\n",
        "import warnings\n",
        "warnings.filterwarnings(\"ignore\")"
      ],
      "metadata": {
        "id": "5GL8jkHce6-U"
      },
      "execution_count": null,
      "outputs": []
    },
    {
      "cell_type": "code",
      "source": [
        "# Read 'school-shootings-data.csv'\n",
        "shootings = pd.read_csv('/content/drive/MyDrive/ML AI 2023/Wortham/John/winter/school-shootings-data.csv')"
      ],
      "metadata": {
        "id": "Fwp6AZenIm2o"
      },
      "execution_count": null,
      "outputs": []
    },
    {
      "cell_type": "markdown",
      "source": [
        "# Goal\n",
        "\n",
        "The goal of this project is to build a model that predicts the casualties of a shooting. This will allow me to come to a new or redefined conclusion."
      ],
      "metadata": {
        "id": "mNJo5nqLJT8_"
      }
    },
    {
      "cell_type": "markdown",
      "source": [
        "# Examining the data"
      ],
      "metadata": {
        "id": "fy7kADZUKD_a"
      }
    },
    {
      "cell_type": "code",
      "source": [
        "# Displaying first five rows of the dataset\n",
        "shootings.head()"
      ],
      "metadata": {
        "colab": {
          "base_uri": "https://localhost:8080/",
          "height": 360
        },
        "id": "y3GErMidI9FX",
        "outputId": "63e4d1b2-d3aa-4c64-8e3b-6775039c32a2"
      },
      "execution_count": null,
      "outputs": [
        {
          "output_type": "execute_result",
          "data": {
            "text/plain": [
              "   uid nces_school_id                  school_name  nces_district_id  \\\n",
              "0    1   080480000707        Columbine High School          804800.0   \n",
              "1    2   220054000422  Scotlandville Middle School         2200540.0   \n",
              "2    3   130441001591         Heritage High School         1304410.0   \n",
              "3    4   421899003847     John Bartram High School         4218990.0   \n",
              "4    5   250279000225       Dorchester High School         2502790.0   \n",
              "\n",
              "                          district_name       date school_year  year  \\\n",
              "0                  Jefferson County R-1  4/20/1999   1998-1999  1999   \n",
              "1  East Baton Rouge Parish School Board  4/22/1999   1998-1999  1999   \n",
              "2                       Rockdale County  5/20/1999   1998-1999  1999   \n",
              "3                  Philadelphia City SD  10/4/1999   1999-2000  1999   \n",
              "4                                Boston  11/3/1999   1999-2000  1999   \n",
              "\n",
              "       time day_of_week  ...        lat        long staffing low_grade  \\\n",
              "0  11:19 AM     Tuesday  ...  39.603910 -105.075000     89.6         9   \n",
              "1  12:30 PM    Thursday  ...  30.529958  -91.169966     39.0         6   \n",
              "2   8:03 AM    Thursday  ...  33.626922  -84.047960     84.0         9   \n",
              "3  10:00 AM      Monday  ...  39.921509  -75.234108     41.0         9   \n",
              "4   7:40 AM   Wednesday  ...  42.285268  -71.075901      NaN         9   \n",
              "\n",
              "   high_grade  lunch                   county state_fips  county_fips ulocale  \n",
              "0          12     41         Jefferson County          8         8059    21.0  \n",
              "1           8    495  East Baton Rouge Parish         22        22033    12.0  \n",
              "2          12    125          Rockdale County         13        13247    21.0  \n",
              "3          12   2007      Philadelphia County         42        42101    11.0  \n",
              "4          12    543           Suffolk County         25        25025    11.0  \n",
              "\n",
              "[5 rows x 50 columns]"
            ],
            "text/html": [
              "\n",
              "  <div id=\"df-222f4c6d-ed45-4cd8-a027-fc06b100d3d3\" class=\"colab-df-container\">\n",
              "    <div>\n",
              "<style scoped>\n",
              "    .dataframe tbody tr th:only-of-type {\n",
              "        vertical-align: middle;\n",
              "    }\n",
              "\n",
              "    .dataframe tbody tr th {\n",
              "        vertical-align: top;\n",
              "    }\n",
              "\n",
              "    .dataframe thead th {\n",
              "        text-align: right;\n",
              "    }\n",
              "</style>\n",
              "<table border=\"1\" class=\"dataframe\">\n",
              "  <thead>\n",
              "    <tr style=\"text-align: right;\">\n",
              "      <th></th>\n",
              "      <th>uid</th>\n",
              "      <th>nces_school_id</th>\n",
              "      <th>school_name</th>\n",
              "      <th>nces_district_id</th>\n",
              "      <th>district_name</th>\n",
              "      <th>date</th>\n",
              "      <th>school_year</th>\n",
              "      <th>year</th>\n",
              "      <th>time</th>\n",
              "      <th>day_of_week</th>\n",
              "      <th>...</th>\n",
              "      <th>lat</th>\n",
              "      <th>long</th>\n",
              "      <th>staffing</th>\n",
              "      <th>low_grade</th>\n",
              "      <th>high_grade</th>\n",
              "      <th>lunch</th>\n",
              "      <th>county</th>\n",
              "      <th>state_fips</th>\n",
              "      <th>county_fips</th>\n",
              "      <th>ulocale</th>\n",
              "    </tr>\n",
              "  </thead>\n",
              "  <tbody>\n",
              "    <tr>\n",
              "      <th>0</th>\n",
              "      <td>1</td>\n",
              "      <td>080480000707</td>\n",
              "      <td>Columbine High School</td>\n",
              "      <td>804800.0</td>\n",
              "      <td>Jefferson County R-1</td>\n",
              "      <td>4/20/1999</td>\n",
              "      <td>1998-1999</td>\n",
              "      <td>1999</td>\n",
              "      <td>11:19 AM</td>\n",
              "      <td>Tuesday</td>\n",
              "      <td>...</td>\n",
              "      <td>39.603910</td>\n",
              "      <td>-105.075000</td>\n",
              "      <td>89.6</td>\n",
              "      <td>9</td>\n",
              "      <td>12</td>\n",
              "      <td>41</td>\n",
              "      <td>Jefferson County</td>\n",
              "      <td>8</td>\n",
              "      <td>8059</td>\n",
              "      <td>21.0</td>\n",
              "    </tr>\n",
              "    <tr>\n",
              "      <th>1</th>\n",
              "      <td>2</td>\n",
              "      <td>220054000422</td>\n",
              "      <td>Scotlandville Middle School</td>\n",
              "      <td>2200540.0</td>\n",
              "      <td>East Baton Rouge Parish School Board</td>\n",
              "      <td>4/22/1999</td>\n",
              "      <td>1998-1999</td>\n",
              "      <td>1999</td>\n",
              "      <td>12:30 PM</td>\n",
              "      <td>Thursday</td>\n",
              "      <td>...</td>\n",
              "      <td>30.529958</td>\n",
              "      <td>-91.169966</td>\n",
              "      <td>39.0</td>\n",
              "      <td>6</td>\n",
              "      <td>8</td>\n",
              "      <td>495</td>\n",
              "      <td>East Baton Rouge Parish</td>\n",
              "      <td>22</td>\n",
              "      <td>22033</td>\n",
              "      <td>12.0</td>\n",
              "    </tr>\n",
              "    <tr>\n",
              "      <th>2</th>\n",
              "      <td>3</td>\n",
              "      <td>130441001591</td>\n",
              "      <td>Heritage High School</td>\n",
              "      <td>1304410.0</td>\n",
              "      <td>Rockdale County</td>\n",
              "      <td>5/20/1999</td>\n",
              "      <td>1998-1999</td>\n",
              "      <td>1999</td>\n",
              "      <td>8:03 AM</td>\n",
              "      <td>Thursday</td>\n",
              "      <td>...</td>\n",
              "      <td>33.626922</td>\n",
              "      <td>-84.047960</td>\n",
              "      <td>84.0</td>\n",
              "      <td>9</td>\n",
              "      <td>12</td>\n",
              "      <td>125</td>\n",
              "      <td>Rockdale County</td>\n",
              "      <td>13</td>\n",
              "      <td>13247</td>\n",
              "      <td>21.0</td>\n",
              "    </tr>\n",
              "    <tr>\n",
              "      <th>3</th>\n",
              "      <td>4</td>\n",
              "      <td>421899003847</td>\n",
              "      <td>John Bartram High School</td>\n",
              "      <td>4218990.0</td>\n",
              "      <td>Philadelphia City SD</td>\n",
              "      <td>10/4/1999</td>\n",
              "      <td>1999-2000</td>\n",
              "      <td>1999</td>\n",
              "      <td>10:00 AM</td>\n",
              "      <td>Monday</td>\n",
              "      <td>...</td>\n",
              "      <td>39.921509</td>\n",
              "      <td>-75.234108</td>\n",
              "      <td>41.0</td>\n",
              "      <td>9</td>\n",
              "      <td>12</td>\n",
              "      <td>2007</td>\n",
              "      <td>Philadelphia County</td>\n",
              "      <td>42</td>\n",
              "      <td>42101</td>\n",
              "      <td>11.0</td>\n",
              "    </tr>\n",
              "    <tr>\n",
              "      <th>4</th>\n",
              "      <td>5</td>\n",
              "      <td>250279000225</td>\n",
              "      <td>Dorchester High School</td>\n",
              "      <td>2502790.0</td>\n",
              "      <td>Boston</td>\n",
              "      <td>11/3/1999</td>\n",
              "      <td>1999-2000</td>\n",
              "      <td>1999</td>\n",
              "      <td>7:40 AM</td>\n",
              "      <td>Wednesday</td>\n",
              "      <td>...</td>\n",
              "      <td>42.285268</td>\n",
              "      <td>-71.075901</td>\n",
              "      <td>NaN</td>\n",
              "      <td>9</td>\n",
              "      <td>12</td>\n",
              "      <td>543</td>\n",
              "      <td>Suffolk County</td>\n",
              "      <td>25</td>\n",
              "      <td>25025</td>\n",
              "      <td>11.0</td>\n",
              "    </tr>\n",
              "  </tbody>\n",
              "</table>\n",
              "<p>5 rows × 50 columns</p>\n",
              "</div>\n",
              "    <div class=\"colab-df-buttons\">\n",
              "\n",
              "  <div class=\"colab-df-container\">\n",
              "    <button class=\"colab-df-convert\" onclick=\"convertToInteractive('df-222f4c6d-ed45-4cd8-a027-fc06b100d3d3')\"\n",
              "            title=\"Convert this dataframe to an interactive table.\"\n",
              "            style=\"display:none;\">\n",
              "\n",
              "  <svg xmlns=\"http://www.w3.org/2000/svg\" height=\"24px\" viewBox=\"0 -960 960 960\">\n",
              "    <path d=\"M120-120v-720h720v720H120Zm60-500h600v-160H180v160Zm220 220h160v-160H400v160Zm0 220h160v-160H400v160ZM180-400h160v-160H180v160Zm440 0h160v-160H620v160ZM180-180h160v-160H180v160Zm440 0h160v-160H620v160Z\"/>\n",
              "  </svg>\n",
              "    </button>\n",
              "\n",
              "  <style>\n",
              "    .colab-df-container {\n",
              "      display:flex;\n",
              "      gap: 12px;\n",
              "    }\n",
              "\n",
              "    .colab-df-convert {\n",
              "      background-color: #E8F0FE;\n",
              "      border: none;\n",
              "      border-radius: 50%;\n",
              "      cursor: pointer;\n",
              "      display: none;\n",
              "      fill: #1967D2;\n",
              "      height: 32px;\n",
              "      padding: 0 0 0 0;\n",
              "      width: 32px;\n",
              "    }\n",
              "\n",
              "    .colab-df-convert:hover {\n",
              "      background-color: #E2EBFA;\n",
              "      box-shadow: 0px 1px 2px rgba(60, 64, 67, 0.3), 0px 1px 3px 1px rgba(60, 64, 67, 0.15);\n",
              "      fill: #174EA6;\n",
              "    }\n",
              "\n",
              "    .colab-df-buttons div {\n",
              "      margin-bottom: 4px;\n",
              "    }\n",
              "\n",
              "    [theme=dark] .colab-df-convert {\n",
              "      background-color: #3B4455;\n",
              "      fill: #D2E3FC;\n",
              "    }\n",
              "\n",
              "    [theme=dark] .colab-df-convert:hover {\n",
              "      background-color: #434B5C;\n",
              "      box-shadow: 0px 1px 3px 1px rgba(0, 0, 0, 0.15);\n",
              "      filter: drop-shadow(0px 1px 2px rgba(0, 0, 0, 0.3));\n",
              "      fill: #FFFFFF;\n",
              "    }\n",
              "  </style>\n",
              "\n",
              "    <script>\n",
              "      const buttonEl =\n",
              "        document.querySelector('#df-222f4c6d-ed45-4cd8-a027-fc06b100d3d3 button.colab-df-convert');\n",
              "      buttonEl.style.display =\n",
              "        google.colab.kernel.accessAllowed ? 'block' : 'none';\n",
              "\n",
              "      async function convertToInteractive(key) {\n",
              "        const element = document.querySelector('#df-222f4c6d-ed45-4cd8-a027-fc06b100d3d3');\n",
              "        const dataTable =\n",
              "          await google.colab.kernel.invokeFunction('convertToInteractive',\n",
              "                                                    [key], {});\n",
              "        if (!dataTable) return;\n",
              "\n",
              "        const docLinkHtml = 'Like what you see? Visit the ' +\n",
              "          '<a target=\"_blank\" href=https://colab.research.google.com/notebooks/data_table.ipynb>data table notebook</a>'\n",
              "          + ' to learn more about interactive tables.';\n",
              "        element.innerHTML = '';\n",
              "        dataTable['output_type'] = 'display_data';\n",
              "        await google.colab.output.renderOutput(dataTable, element);\n",
              "        const docLink = document.createElement('div');\n",
              "        docLink.innerHTML = docLinkHtml;\n",
              "        element.appendChild(docLink);\n",
              "      }\n",
              "    </script>\n",
              "  </div>\n",
              "\n",
              "\n",
              "<div id=\"df-6e9ce5ed-e2bb-403f-b4ce-9b89fac7f4d3\">\n",
              "  <button class=\"colab-df-quickchart\" onclick=\"quickchart('df-6e9ce5ed-e2bb-403f-b4ce-9b89fac7f4d3')\"\n",
              "            title=\"Suggest charts\"\n",
              "            style=\"display:none;\">\n",
              "\n",
              "<svg xmlns=\"http://www.w3.org/2000/svg\" height=\"24px\"viewBox=\"0 0 24 24\"\n",
              "     width=\"24px\">\n",
              "    <g>\n",
              "        <path d=\"M19 3H5c-1.1 0-2 .9-2 2v14c0 1.1.9 2 2 2h14c1.1 0 2-.9 2-2V5c0-1.1-.9-2-2-2zM9 17H7v-7h2v7zm4 0h-2V7h2v10zm4 0h-2v-4h2v4z\"/>\n",
              "    </g>\n",
              "</svg>\n",
              "  </button>\n",
              "\n",
              "<style>\n",
              "  .colab-df-quickchart {\n",
              "      --bg-color: #E8F0FE;\n",
              "      --fill-color: #1967D2;\n",
              "      --hover-bg-color: #E2EBFA;\n",
              "      --hover-fill-color: #174EA6;\n",
              "      --disabled-fill-color: #AAA;\n",
              "      --disabled-bg-color: #DDD;\n",
              "  }\n",
              "\n",
              "  [theme=dark] .colab-df-quickchart {\n",
              "      --bg-color: #3B4455;\n",
              "      --fill-color: #D2E3FC;\n",
              "      --hover-bg-color: #434B5C;\n",
              "      --hover-fill-color: #FFFFFF;\n",
              "      --disabled-bg-color: #3B4455;\n",
              "      --disabled-fill-color: #666;\n",
              "  }\n",
              "\n",
              "  .colab-df-quickchart {\n",
              "    background-color: var(--bg-color);\n",
              "    border: none;\n",
              "    border-radius: 50%;\n",
              "    cursor: pointer;\n",
              "    display: none;\n",
              "    fill: var(--fill-color);\n",
              "    height: 32px;\n",
              "    padding: 0;\n",
              "    width: 32px;\n",
              "  }\n",
              "\n",
              "  .colab-df-quickchart:hover {\n",
              "    background-color: var(--hover-bg-color);\n",
              "    box-shadow: 0 1px 2px rgba(60, 64, 67, 0.3), 0 1px 3px 1px rgba(60, 64, 67, 0.15);\n",
              "    fill: var(--button-hover-fill-color);\n",
              "  }\n",
              "\n",
              "  .colab-df-quickchart-complete:disabled,\n",
              "  .colab-df-quickchart-complete:disabled:hover {\n",
              "    background-color: var(--disabled-bg-color);\n",
              "    fill: var(--disabled-fill-color);\n",
              "    box-shadow: none;\n",
              "  }\n",
              "\n",
              "  .colab-df-spinner {\n",
              "    border: 2px solid var(--fill-color);\n",
              "    border-color: transparent;\n",
              "    border-bottom-color: var(--fill-color);\n",
              "    animation:\n",
              "      spin 1s steps(1) infinite;\n",
              "  }\n",
              "\n",
              "  @keyframes spin {\n",
              "    0% {\n",
              "      border-color: transparent;\n",
              "      border-bottom-color: var(--fill-color);\n",
              "      border-left-color: var(--fill-color);\n",
              "    }\n",
              "    20% {\n",
              "      border-color: transparent;\n",
              "      border-left-color: var(--fill-color);\n",
              "      border-top-color: var(--fill-color);\n",
              "    }\n",
              "    30% {\n",
              "      border-color: transparent;\n",
              "      border-left-color: var(--fill-color);\n",
              "      border-top-color: var(--fill-color);\n",
              "      border-right-color: var(--fill-color);\n",
              "    }\n",
              "    40% {\n",
              "      border-color: transparent;\n",
              "      border-right-color: var(--fill-color);\n",
              "      border-top-color: var(--fill-color);\n",
              "    }\n",
              "    60% {\n",
              "      border-color: transparent;\n",
              "      border-right-color: var(--fill-color);\n",
              "    }\n",
              "    80% {\n",
              "      border-color: transparent;\n",
              "      border-right-color: var(--fill-color);\n",
              "      border-bottom-color: var(--fill-color);\n",
              "    }\n",
              "    90% {\n",
              "      border-color: transparent;\n",
              "      border-bottom-color: var(--fill-color);\n",
              "    }\n",
              "  }\n",
              "</style>\n",
              "\n",
              "  <script>\n",
              "    async function quickchart(key) {\n",
              "      const quickchartButtonEl =\n",
              "        document.querySelector('#' + key + ' button');\n",
              "      quickchartButtonEl.disabled = true;  // To prevent multiple clicks.\n",
              "      quickchartButtonEl.classList.add('colab-df-spinner');\n",
              "      try {\n",
              "        const charts = await google.colab.kernel.invokeFunction(\n",
              "            'suggestCharts', [key], {});\n",
              "      } catch (error) {\n",
              "        console.error('Error during call to suggestCharts:', error);\n",
              "      }\n",
              "      quickchartButtonEl.classList.remove('colab-df-spinner');\n",
              "      quickchartButtonEl.classList.add('colab-df-quickchart-complete');\n",
              "    }\n",
              "    (() => {\n",
              "      let quickchartButtonEl =\n",
              "        document.querySelector('#df-6e9ce5ed-e2bb-403f-b4ce-9b89fac7f4d3 button');\n",
              "      quickchartButtonEl.style.display =\n",
              "        google.colab.kernel.accessAllowed ? 'block' : 'none';\n",
              "    })();\n",
              "  </script>\n",
              "</div>\n",
              "    </div>\n",
              "  </div>\n"
            ],
            "application/vnd.google.colaboratory.intrinsic+json": {
              "type": "dataframe",
              "variable_name": "shootings"
            }
          },
          "metadata": {},
          "execution_count": 149
        }
      ]
    },
    {
      "cell_type": "code",
      "source": [
        "# Getting the dimensions of the dataset\n",
        "shootings.shape"
      ],
      "metadata": {
        "colab": {
          "base_uri": "https://localhost:8080/"
        },
        "id": "hoT04g9zKPo1",
        "outputId": "9c2ea2a4-cc63-49bd-ceef-1210744d6186"
      },
      "execution_count": null,
      "outputs": [
        {
          "output_type": "execute_result",
          "data": {
            "text/plain": [
              "(387, 50)"
            ]
          },
          "metadata": {},
          "execution_count": 150
        }
      ]
    },
    {
      "cell_type": "code",
      "source": [
        "# Getting the columns of the dataset\n",
        "shootings.columns"
      ],
      "metadata": {
        "colab": {
          "base_uri": "https://localhost:8080/"
        },
        "id": "7bJCUIXAKS5q",
        "outputId": "d199b54d-d4a7-4470-c835-e74e66da1f79"
      },
      "execution_count": null,
      "outputs": [
        {
          "output_type": "execute_result",
          "data": {
            "text/plain": [
              "Index(['uid', 'nces_school_id', 'school_name', 'nces_district_id',\n",
              "       'district_name', 'date', 'school_year', 'year', 'time', 'day_of_week',\n",
              "       'city', 'state', 'school_type', 'enrollment', 'killed', 'injured',\n",
              "       'casualties', 'shooting_type', 'age_shooter1', 'gender_shooter1',\n",
              "       'race_ethnicity_shooter1', 'shooter_relationship1', 'shooter_deceased1',\n",
              "       'deceased_notes1', 'age_shooter2', 'gender_shooter2',\n",
              "       'race_ethnicity_shooter2', 'shooter_relationship2', 'shooter_deceased2',\n",
              "       'deceased_notes2', 'white', 'black', 'hispanic', 'asian',\n",
              "       'american_indian_alaska_native', 'hawaiian_native_pacific_islander',\n",
              "       'two_or_more', 'resource_officer', 'weapon', 'weapon_source', 'lat',\n",
              "       'long', 'staffing', 'low_grade', 'high_grade', 'lunch', 'county',\n",
              "       'state_fips', 'county_fips', 'ulocale'],\n",
              "      dtype='object')"
            ]
          },
          "metadata": {},
          "execution_count": 151
        }
      ]
    },
    {
      "cell_type": "code",
      "source": [
        "# Finding the data type for each column\n",
        "shootings.dtypes"
      ],
      "metadata": {
        "colab": {
          "base_uri": "https://localhost:8080/"
        },
        "id": "7ragBNpSmQJ6",
        "outputId": "10563170-fa13-48f3-f502-8821f2c983cf"
      },
      "execution_count": null,
      "outputs": [
        {
          "output_type": "execute_result",
          "data": {
            "text/plain": [
              "uid                                   int64\n",
              "nces_school_id                       object\n",
              "school_name                          object\n",
              "nces_district_id                    float64\n",
              "district_name                        object\n",
              "date                                 object\n",
              "school_year                          object\n",
              "year                                  int64\n",
              "time                                 object\n",
              "day_of_week                          object\n",
              "city                                 object\n",
              "state                                object\n",
              "school_type                          object\n",
              "enrollment                           object\n",
              "killed                                int64\n",
              "injured                               int64\n",
              "casualties                            int64\n",
              "shooting_type                        object\n",
              "age_shooter1                        float64\n",
              "gender_shooter1                      object\n",
              "race_ethnicity_shooter1              object\n",
              "shooter_relationship1                object\n",
              "shooter_deceased1                   float64\n",
              "deceased_notes1                      object\n",
              "age_shooter2                        float64\n",
              "gender_shooter2                      object\n",
              "race_ethnicity_shooter2              object\n",
              "shooter_relationship2                object\n",
              "shooter_deceased2                   float64\n",
              "deceased_notes2                      object\n",
              "white                               float64\n",
              "black                               float64\n",
              "hispanic                             object\n",
              "asian                               float64\n",
              "american_indian_alaska_native       float64\n",
              "hawaiian_native_pacific_islander    float64\n",
              "two_or_more                         float64\n",
              "resource_officer                      int64\n",
              "weapon                               object\n",
              "weapon_source                        object\n",
              "lat                                 float64\n",
              "long                                float64\n",
              "staffing                            float64\n",
              "low_grade                            object\n",
              "high_grade                           object\n",
              "lunch                                object\n",
              "county                               object\n",
              "state_fips                            int64\n",
              "county_fips                           int64\n",
              "ulocale                             float64\n",
              "dtype: object"
            ]
          },
          "metadata": {},
          "execution_count": 152
        }
      ]
    },
    {
      "cell_type": "code",
      "source": [
        "# Counting the number of unique values in a column\n",
        "num_unique_values = shootings['weapon'].nunique()\n",
        "\n",
        "# Printing the result\n",
        "print(\"Number of unique values in the column:\", num_unique_values)"
      ],
      "metadata": {
        "colab": {
          "base_uri": "https://localhost:8080/"
        },
        "id": "wGUQW94yAmvn",
        "outputId": "ecfed18a-7bab-44f4-d593-db47190f9f3b"
      },
      "execution_count": null,
      "outputs": [
        {
          "output_type": "stream",
          "name": "stdout",
          "text": [
            "Number of unique values in the column: 143\n"
          ]
        }
      ]
    },
    {
      "cell_type": "markdown",
      "source": [
        "# **XGBoost**\n",
        "\n",
        "XGBoost (eXtreme Gradient Boosting) is a popular and powerful machine learning algorithm known for its efficiency and effectiveness in supervised learning tasks, particularly for regression and classification problems. It belongs to the ensemble learning methods and is based on gradient boosting framework."
      ],
      "metadata": {
        "id": "IXrjX2Yfmc8r"
      }
    },
    {
      "cell_type": "markdown",
      "source": [
        "# Preprocessing the data"
      ],
      "metadata": {
        "id": "cbkyZ6PtPPdr"
      }
    },
    {
      "cell_type": "markdown",
      "source": [
        "# Cleaning the data"
      ],
      "metadata": {
        "id": "fVtDTKIVNYQw"
      }
    },
    {
      "cell_type": "code",
      "source": [
        "# Dropping all unnecessary columns\n",
        "columns_to_drop = ['uid', 'nces_school_id', 'school_name', 'nces_district_id',\n",
        "       'district_name', 'date', 'school_year', 'city', 'killed', 'injured','age_shooter2', 'gender_shooter2',\n",
        "       'race_ethnicity_shooter2', 'shooter_relationship2', 'shooter_deceased2',\n",
        "       'deceased_notes2', 'two_or_more', 'lat', 'lunch',\n",
        "       'long', 'county', 'county_fips', 'ulocale','weapon_source','deceased_notes1','state','weapon']\n",
        "shootings.drop(columns_to_drop, axis=1, inplace=True)"
      ],
      "metadata": {
        "id": "F4g4D-0RM9D0"
      },
      "execution_count": null,
      "outputs": []
    },
    {
      "cell_type": "markdown",
      "source": [
        "# Transforming the data\n",
        "\n",
        "The two types of features that I needed to transform and couldn’t afford to drop  were time and amount of students per different races enrolled in school.  I needed to transform the race enrollment values because I realized that ratioing these values to the respective enrollment would give me better data. I achieved this by simply dividing. I needed to transform time because my model was counting each separate time as individual categorical values, which created too many. To solve this, I grouped the times by hour."
      ],
      "metadata": {
        "id": "bjIh6ACFRfIw"
      }
    },
    {
      "cell_type": "code",
      "source": [
        "# Changing the enrollment and hispanic column to float datatype by getting rid of the comma\n",
        "shootings['enrollment'] = shootings['enrollment'].str.replace(',', '').astype(float)\n",
        "shootings['hispanic'] = shootings['hispanic'].str.replace(',', '').astype(float)"
      ],
      "metadata": {
        "id": "MzIjAjpjcmmR"
      },
      "execution_count": null,
      "outputs": []
    },
    {
      "cell_type": "code",
      "source": [
        "# Getting the students per enrollment for all of the races or ethnic groups\n",
        "\n",
        "shootings['white_average'] = shootings['white'] / shootings['enrollment']\n",
        "shootings['black_average'] = shootings['black'] / shootings['enrollment']\n",
        "shootings['hispanic_average'] = shootings['hispanic'] / shootings['enrollment']\n",
        "shootings['asian_average'] = shootings['asian'] / shootings['enrollment']\n",
        "shootings['american_indian_alaska_native_average'] = shootings['american_indian_alaska_native'] / shootings['enrollment']\n",
        "shootings['hawaiian_native_pacific_islander_average'] = shootings['hawaiian_native_pacific_islander'] / shootings['enrollment']"
      ],
      "metadata": {
        "id": "KjSEBqq0cRka"
      },
      "execution_count": null,
      "outputs": []
    },
    {
      "cell_type": "code",
      "source": [
        "# Dropping the origional race columns after we created the new race columns\n",
        "\n",
        "race_drop = ['white','black','hispanic','asian','american_indian_alaska_native', 'hawaiian_native_pacific_islander']\n",
        "shootings.drop(race_drop, axis=1, inplace=True)"
      ],
      "metadata": {
        "id": "3x3wwQ_tdkb7"
      },
      "execution_count": null,
      "outputs": []
    },
    {
      "cell_type": "code",
      "source": [
        "# Grouping all times together by hour and am,pm\n",
        "\n",
        "shootings['time'] = shootings['time'].str.replace(r':...', ':', regex=True)\n",
        "shootings.head()"
      ],
      "metadata": {
        "colab": {
          "base_uri": "https://localhost:8080/",
          "height": 255
        },
        "id": "wWbmimq9R9CY",
        "outputId": "5c1bebd5-2303-47e4-9262-2ffc2002343d"
      },
      "execution_count": null,
      "outputs": [
        {
          "output_type": "execute_result",
          "data": {
            "text/plain": [
              "   year   time day_of_week school_type  enrollment  casualties  \\\n",
              "0  1999  11:AM     Tuesday      public      1965.0          34   \n",
              "1  1999  12:PM    Thursday      public       588.0           1   \n",
              "2  1999   8:AM    Thursday      public      1369.0           6   \n",
              "3  1999  10:AM      Monday      public      3147.0           1   \n",
              "4  1999   7:AM   Wednesday      public      1116.0           1   \n",
              "\n",
              "    shooting_type  age_shooter1 gender_shooter1 race_ethnicity_shooter1  ...  \\\n",
              "0  indiscriminate          18.0               m                       w  ...   \n",
              "1        targeted          14.0               m                     NaN  ...   \n",
              "2  indiscriminate          15.0               m                       w  ...   \n",
              "3        targeted          17.0               m                     NaN  ...   \n",
              "4        targeted           NaN               m                     NaN  ...   \n",
              "\n",
              "  staffing  low_grade  high_grade  state_fips white_average black_average  \\\n",
              "0     89.6          9          12           8      0.907379      0.008142   \n",
              "1     39.0          6           8          22      0.008503      0.991497   \n",
              "2     84.0          9          12          13      0.868517      0.099343   \n",
              "3     41.0          9          12          42      0.066412      0.869399   \n",
              "4      NaN          9          12          25      0.035842      0.676523   \n",
              "\n",
              "   hispanic_average  asian_average  american_indian_alaska_native_average  \\\n",
              "0          0.056997       0.021374                               0.006107   \n",
              "1          0.000000       0.000000                               0.000000   \n",
              "2          0.020453       0.010957                               0.000730   \n",
              "3          0.008580       0.054020                               0.001589   \n",
              "4          0.257168       0.025986                               0.004480   \n",
              "\n",
              "   hawaiian_native_pacific_islander_average  \n",
              "0                                       NaN  \n",
              "1                                       NaN  \n",
              "2                                       NaN  \n",
              "3                                       NaN  \n",
              "4                                       NaN  \n",
              "\n",
              "[5 rows x 23 columns]"
            ],
            "text/html": [
              "\n",
              "  <div id=\"df-23eee3a8-462a-45fb-910f-4482fdaf710e\" class=\"colab-df-container\">\n",
              "    <div>\n",
              "<style scoped>\n",
              "    .dataframe tbody tr th:only-of-type {\n",
              "        vertical-align: middle;\n",
              "    }\n",
              "\n",
              "    .dataframe tbody tr th {\n",
              "        vertical-align: top;\n",
              "    }\n",
              "\n",
              "    .dataframe thead th {\n",
              "        text-align: right;\n",
              "    }\n",
              "</style>\n",
              "<table border=\"1\" class=\"dataframe\">\n",
              "  <thead>\n",
              "    <tr style=\"text-align: right;\">\n",
              "      <th></th>\n",
              "      <th>year</th>\n",
              "      <th>time</th>\n",
              "      <th>day_of_week</th>\n",
              "      <th>school_type</th>\n",
              "      <th>enrollment</th>\n",
              "      <th>casualties</th>\n",
              "      <th>shooting_type</th>\n",
              "      <th>age_shooter1</th>\n",
              "      <th>gender_shooter1</th>\n",
              "      <th>race_ethnicity_shooter1</th>\n",
              "      <th>...</th>\n",
              "      <th>staffing</th>\n",
              "      <th>low_grade</th>\n",
              "      <th>high_grade</th>\n",
              "      <th>state_fips</th>\n",
              "      <th>white_average</th>\n",
              "      <th>black_average</th>\n",
              "      <th>hispanic_average</th>\n",
              "      <th>asian_average</th>\n",
              "      <th>american_indian_alaska_native_average</th>\n",
              "      <th>hawaiian_native_pacific_islander_average</th>\n",
              "    </tr>\n",
              "  </thead>\n",
              "  <tbody>\n",
              "    <tr>\n",
              "      <th>0</th>\n",
              "      <td>1999</td>\n",
              "      <td>11:AM</td>\n",
              "      <td>Tuesday</td>\n",
              "      <td>public</td>\n",
              "      <td>1965.0</td>\n",
              "      <td>34</td>\n",
              "      <td>indiscriminate</td>\n",
              "      <td>18.0</td>\n",
              "      <td>m</td>\n",
              "      <td>w</td>\n",
              "      <td>...</td>\n",
              "      <td>89.6</td>\n",
              "      <td>9</td>\n",
              "      <td>12</td>\n",
              "      <td>8</td>\n",
              "      <td>0.907379</td>\n",
              "      <td>0.008142</td>\n",
              "      <td>0.056997</td>\n",
              "      <td>0.021374</td>\n",
              "      <td>0.006107</td>\n",
              "      <td>NaN</td>\n",
              "    </tr>\n",
              "    <tr>\n",
              "      <th>1</th>\n",
              "      <td>1999</td>\n",
              "      <td>12:PM</td>\n",
              "      <td>Thursday</td>\n",
              "      <td>public</td>\n",
              "      <td>588.0</td>\n",
              "      <td>1</td>\n",
              "      <td>targeted</td>\n",
              "      <td>14.0</td>\n",
              "      <td>m</td>\n",
              "      <td>NaN</td>\n",
              "      <td>...</td>\n",
              "      <td>39.0</td>\n",
              "      <td>6</td>\n",
              "      <td>8</td>\n",
              "      <td>22</td>\n",
              "      <td>0.008503</td>\n",
              "      <td>0.991497</td>\n",
              "      <td>0.000000</td>\n",
              "      <td>0.000000</td>\n",
              "      <td>0.000000</td>\n",
              "      <td>NaN</td>\n",
              "    </tr>\n",
              "    <tr>\n",
              "      <th>2</th>\n",
              "      <td>1999</td>\n",
              "      <td>8:AM</td>\n",
              "      <td>Thursday</td>\n",
              "      <td>public</td>\n",
              "      <td>1369.0</td>\n",
              "      <td>6</td>\n",
              "      <td>indiscriminate</td>\n",
              "      <td>15.0</td>\n",
              "      <td>m</td>\n",
              "      <td>w</td>\n",
              "      <td>...</td>\n",
              "      <td>84.0</td>\n",
              "      <td>9</td>\n",
              "      <td>12</td>\n",
              "      <td>13</td>\n",
              "      <td>0.868517</td>\n",
              "      <td>0.099343</td>\n",
              "      <td>0.020453</td>\n",
              "      <td>0.010957</td>\n",
              "      <td>0.000730</td>\n",
              "      <td>NaN</td>\n",
              "    </tr>\n",
              "    <tr>\n",
              "      <th>3</th>\n",
              "      <td>1999</td>\n",
              "      <td>10:AM</td>\n",
              "      <td>Monday</td>\n",
              "      <td>public</td>\n",
              "      <td>3147.0</td>\n",
              "      <td>1</td>\n",
              "      <td>targeted</td>\n",
              "      <td>17.0</td>\n",
              "      <td>m</td>\n",
              "      <td>NaN</td>\n",
              "      <td>...</td>\n",
              "      <td>41.0</td>\n",
              "      <td>9</td>\n",
              "      <td>12</td>\n",
              "      <td>42</td>\n",
              "      <td>0.066412</td>\n",
              "      <td>0.869399</td>\n",
              "      <td>0.008580</td>\n",
              "      <td>0.054020</td>\n",
              "      <td>0.001589</td>\n",
              "      <td>NaN</td>\n",
              "    </tr>\n",
              "    <tr>\n",
              "      <th>4</th>\n",
              "      <td>1999</td>\n",
              "      <td>7:AM</td>\n",
              "      <td>Wednesday</td>\n",
              "      <td>public</td>\n",
              "      <td>1116.0</td>\n",
              "      <td>1</td>\n",
              "      <td>targeted</td>\n",
              "      <td>NaN</td>\n",
              "      <td>m</td>\n",
              "      <td>NaN</td>\n",
              "      <td>...</td>\n",
              "      <td>NaN</td>\n",
              "      <td>9</td>\n",
              "      <td>12</td>\n",
              "      <td>25</td>\n",
              "      <td>0.035842</td>\n",
              "      <td>0.676523</td>\n",
              "      <td>0.257168</td>\n",
              "      <td>0.025986</td>\n",
              "      <td>0.004480</td>\n",
              "      <td>NaN</td>\n",
              "    </tr>\n",
              "  </tbody>\n",
              "</table>\n",
              "<p>5 rows × 23 columns</p>\n",
              "</div>\n",
              "    <div class=\"colab-df-buttons\">\n",
              "\n",
              "  <div class=\"colab-df-container\">\n",
              "    <button class=\"colab-df-convert\" onclick=\"convertToInteractive('df-23eee3a8-462a-45fb-910f-4482fdaf710e')\"\n",
              "            title=\"Convert this dataframe to an interactive table.\"\n",
              "            style=\"display:none;\">\n",
              "\n",
              "  <svg xmlns=\"http://www.w3.org/2000/svg\" height=\"24px\" viewBox=\"0 -960 960 960\">\n",
              "    <path d=\"M120-120v-720h720v720H120Zm60-500h600v-160H180v160Zm220 220h160v-160H400v160Zm0 220h160v-160H400v160ZM180-400h160v-160H180v160Zm440 0h160v-160H620v160ZM180-180h160v-160H180v160Zm440 0h160v-160H620v160Z\"/>\n",
              "  </svg>\n",
              "    </button>\n",
              "\n",
              "  <style>\n",
              "    .colab-df-container {\n",
              "      display:flex;\n",
              "      gap: 12px;\n",
              "    }\n",
              "\n",
              "    .colab-df-convert {\n",
              "      background-color: #E8F0FE;\n",
              "      border: none;\n",
              "      border-radius: 50%;\n",
              "      cursor: pointer;\n",
              "      display: none;\n",
              "      fill: #1967D2;\n",
              "      height: 32px;\n",
              "      padding: 0 0 0 0;\n",
              "      width: 32px;\n",
              "    }\n",
              "\n",
              "    .colab-df-convert:hover {\n",
              "      background-color: #E2EBFA;\n",
              "      box-shadow: 0px 1px 2px rgba(60, 64, 67, 0.3), 0px 1px 3px 1px rgba(60, 64, 67, 0.15);\n",
              "      fill: #174EA6;\n",
              "    }\n",
              "\n",
              "    .colab-df-buttons div {\n",
              "      margin-bottom: 4px;\n",
              "    }\n",
              "\n",
              "    [theme=dark] .colab-df-convert {\n",
              "      background-color: #3B4455;\n",
              "      fill: #D2E3FC;\n",
              "    }\n",
              "\n",
              "    [theme=dark] .colab-df-convert:hover {\n",
              "      background-color: #434B5C;\n",
              "      box-shadow: 0px 1px 3px 1px rgba(0, 0, 0, 0.15);\n",
              "      filter: drop-shadow(0px 1px 2px rgba(0, 0, 0, 0.3));\n",
              "      fill: #FFFFFF;\n",
              "    }\n",
              "  </style>\n",
              "\n",
              "    <script>\n",
              "      const buttonEl =\n",
              "        document.querySelector('#df-23eee3a8-462a-45fb-910f-4482fdaf710e button.colab-df-convert');\n",
              "      buttonEl.style.display =\n",
              "        google.colab.kernel.accessAllowed ? 'block' : 'none';\n",
              "\n",
              "      async function convertToInteractive(key) {\n",
              "        const element = document.querySelector('#df-23eee3a8-462a-45fb-910f-4482fdaf710e');\n",
              "        const dataTable =\n",
              "          await google.colab.kernel.invokeFunction('convertToInteractive',\n",
              "                                                    [key], {});\n",
              "        if (!dataTable) return;\n",
              "\n",
              "        const docLinkHtml = 'Like what you see? Visit the ' +\n",
              "          '<a target=\"_blank\" href=https://colab.research.google.com/notebooks/data_table.ipynb>data table notebook</a>'\n",
              "          + ' to learn more about interactive tables.';\n",
              "        element.innerHTML = '';\n",
              "        dataTable['output_type'] = 'display_data';\n",
              "        await google.colab.output.renderOutput(dataTable, element);\n",
              "        const docLink = document.createElement('div');\n",
              "        docLink.innerHTML = docLinkHtml;\n",
              "        element.appendChild(docLink);\n",
              "      }\n",
              "    </script>\n",
              "  </div>\n",
              "\n",
              "\n",
              "<div id=\"df-2aab434b-299f-4059-a1a3-6c5854e9d49b\">\n",
              "  <button class=\"colab-df-quickchart\" onclick=\"quickchart('df-2aab434b-299f-4059-a1a3-6c5854e9d49b')\"\n",
              "            title=\"Suggest charts\"\n",
              "            style=\"display:none;\">\n",
              "\n",
              "<svg xmlns=\"http://www.w3.org/2000/svg\" height=\"24px\"viewBox=\"0 0 24 24\"\n",
              "     width=\"24px\">\n",
              "    <g>\n",
              "        <path d=\"M19 3H5c-1.1 0-2 .9-2 2v14c0 1.1.9 2 2 2h14c1.1 0 2-.9 2-2V5c0-1.1-.9-2-2-2zM9 17H7v-7h2v7zm4 0h-2V7h2v10zm4 0h-2v-4h2v4z\"/>\n",
              "    </g>\n",
              "</svg>\n",
              "  </button>\n",
              "\n",
              "<style>\n",
              "  .colab-df-quickchart {\n",
              "      --bg-color: #E8F0FE;\n",
              "      --fill-color: #1967D2;\n",
              "      --hover-bg-color: #E2EBFA;\n",
              "      --hover-fill-color: #174EA6;\n",
              "      --disabled-fill-color: #AAA;\n",
              "      --disabled-bg-color: #DDD;\n",
              "  }\n",
              "\n",
              "  [theme=dark] .colab-df-quickchart {\n",
              "      --bg-color: #3B4455;\n",
              "      --fill-color: #D2E3FC;\n",
              "      --hover-bg-color: #434B5C;\n",
              "      --hover-fill-color: #FFFFFF;\n",
              "      --disabled-bg-color: #3B4455;\n",
              "      --disabled-fill-color: #666;\n",
              "  }\n",
              "\n",
              "  .colab-df-quickchart {\n",
              "    background-color: var(--bg-color);\n",
              "    border: none;\n",
              "    border-radius: 50%;\n",
              "    cursor: pointer;\n",
              "    display: none;\n",
              "    fill: var(--fill-color);\n",
              "    height: 32px;\n",
              "    padding: 0;\n",
              "    width: 32px;\n",
              "  }\n",
              "\n",
              "  .colab-df-quickchart:hover {\n",
              "    background-color: var(--hover-bg-color);\n",
              "    box-shadow: 0 1px 2px rgba(60, 64, 67, 0.3), 0 1px 3px 1px rgba(60, 64, 67, 0.15);\n",
              "    fill: var(--button-hover-fill-color);\n",
              "  }\n",
              "\n",
              "  .colab-df-quickchart-complete:disabled,\n",
              "  .colab-df-quickchart-complete:disabled:hover {\n",
              "    background-color: var(--disabled-bg-color);\n",
              "    fill: var(--disabled-fill-color);\n",
              "    box-shadow: none;\n",
              "  }\n",
              "\n",
              "  .colab-df-spinner {\n",
              "    border: 2px solid var(--fill-color);\n",
              "    border-color: transparent;\n",
              "    border-bottom-color: var(--fill-color);\n",
              "    animation:\n",
              "      spin 1s steps(1) infinite;\n",
              "  }\n",
              "\n",
              "  @keyframes spin {\n",
              "    0% {\n",
              "      border-color: transparent;\n",
              "      border-bottom-color: var(--fill-color);\n",
              "      border-left-color: var(--fill-color);\n",
              "    }\n",
              "    20% {\n",
              "      border-color: transparent;\n",
              "      border-left-color: var(--fill-color);\n",
              "      border-top-color: var(--fill-color);\n",
              "    }\n",
              "    30% {\n",
              "      border-color: transparent;\n",
              "      border-left-color: var(--fill-color);\n",
              "      border-top-color: var(--fill-color);\n",
              "      border-right-color: var(--fill-color);\n",
              "    }\n",
              "    40% {\n",
              "      border-color: transparent;\n",
              "      border-right-color: var(--fill-color);\n",
              "      border-top-color: var(--fill-color);\n",
              "    }\n",
              "    60% {\n",
              "      border-color: transparent;\n",
              "      border-right-color: var(--fill-color);\n",
              "    }\n",
              "    80% {\n",
              "      border-color: transparent;\n",
              "      border-right-color: var(--fill-color);\n",
              "      border-bottom-color: var(--fill-color);\n",
              "    }\n",
              "    90% {\n",
              "      border-color: transparent;\n",
              "      border-bottom-color: var(--fill-color);\n",
              "    }\n",
              "  }\n",
              "</style>\n",
              "\n",
              "  <script>\n",
              "    async function quickchart(key) {\n",
              "      const quickchartButtonEl =\n",
              "        document.querySelector('#' + key + ' button');\n",
              "      quickchartButtonEl.disabled = true;  // To prevent multiple clicks.\n",
              "      quickchartButtonEl.classList.add('colab-df-spinner');\n",
              "      try {\n",
              "        const charts = await google.colab.kernel.invokeFunction(\n",
              "            'suggestCharts', [key], {});\n",
              "      } catch (error) {\n",
              "        console.error('Error during call to suggestCharts:', error);\n",
              "      }\n",
              "      quickchartButtonEl.classList.remove('colab-df-spinner');\n",
              "      quickchartButtonEl.classList.add('colab-df-quickchart-complete');\n",
              "    }\n",
              "    (() => {\n",
              "      let quickchartButtonEl =\n",
              "        document.querySelector('#df-2aab434b-299f-4059-a1a3-6c5854e9d49b button');\n",
              "      quickchartButtonEl.style.display =\n",
              "        google.colab.kernel.accessAllowed ? 'block' : 'none';\n",
              "    })();\n",
              "  </script>\n",
              "</div>\n",
              "    </div>\n",
              "  </div>\n"
            ],
            "application/vnd.google.colaboratory.intrinsic+json": {
              "type": "dataframe",
              "variable_name": "shootings"
            }
          },
          "metadata": {},
          "execution_count": 158
        }
      ]
    },
    {
      "cell_type": "code",
      "source": [
        "# Checking to see if the time values are correct\n",
        "unique_values = shootings['time'].unique()\n",
        "print(unique_values)"
      ],
      "metadata": {
        "colab": {
          "base_uri": "https://localhost:8080/"
        },
        "id": "gqkel3-icCFI",
        "outputId": "44b26163-f70b-49fa-9112-954d7b5099d2"
      },
      "execution_count": null,
      "outputs": [
        {
          "output_type": "stream",
          "name": "stdout",
          "text": [
            "['11:AM' '12:PM' '8:AM' '10:AM' '7:AM' '3:PM' nan '9:AM' '1:PM' '2:PM'\n",
            " '4:PM' '11:PM' '6:AM']\n"
          ]
        }
      ]
    },
    {
      "cell_type": "code",
      "source": [
        "# Defining the target and features that will be used\n",
        "X,y = shootings.drop('casualties', axis = 1), shootings[['casualties']]\n",
        "# Extracting text features\n",
        "cats = X.select_dtypes(exclude = np.number).columns.tolist()\n",
        "\n",
        "# Converting them to pandas category\n",
        "for col in cats:\n",
        "  X[col] = X[col].astype('category')"
      ],
      "metadata": {
        "id": "q871vzk9Q2w_"
      },
      "execution_count": null,
      "outputs": []
    },
    {
      "cell_type": "markdown",
      "source": [
        "# Preparing the data"
      ],
      "metadata": {
        "id": "Y3TIO4zORv6q"
      }
    },
    {
      "cell_type": "code",
      "source": [
        "# Splitting the data\n",
        "X_train, X_test, y_train, y_test = train_test_split(X,y, test_size = 0.25, random_state = 1)"
      ],
      "metadata": {
        "id": "zZ-GIYV7RvbD"
      },
      "execution_count": null,
      "outputs": []
    },
    {
      "cell_type": "code",
      "source": [
        "# Creating regression matricies\n",
        "\n",
        "dtrain_reg = xgb.DMatrix(X_train, y_train, enable_categorical = True)\n",
        "dtest_reg = xgb.DMatrix(X_test, y_test, enable_categorical = True)"
      ],
      "metadata": {
        "id": "aMRzPDbBRK9K"
      },
      "execution_count": null,
      "outputs": []
    },
    {
      "cell_type": "markdown",
      "source": [
        "# Analyze the data"
      ],
      "metadata": {
        "id": "eqa8K17VSPY2"
      }
    },
    {
      "cell_type": "code",
      "source": [
        "# Defining the parameters\n",
        "params = {\"objective\": \"reg:squarederror\", \"tree_method\": \"gpu_hist\"}\n",
        "\n",
        "# Building the base model\n",
        "# Training an XGBoost model with specified parameters\n",
        "model = xgb.train(\n",
        "    params=params,           # Parameters for training the model\n",
        "    dtrain=dtrain_reg,       # Training data in DMatrix format\n",
        "    num_boost_round=100,     # Number of boosting rounds (iterations)\n",
        ")\n",
        "\n",
        "# Predicting the target variable using the trained model on the test data\n",
        "preds = model.predict(dtest_reg)\n",
        "\n",
        "# Calculating the Root Mean Squared Error (RMSE) between the actual target values (y_test) and the predicted values (preds)\n",
        "# squared=False ensures that RMSE is calculated as the square root of the mean squared error, giving the RMSE in the same units as the target variable\n",
        "rmse = mean_squared_error(y_test, preds, squared=False)\n",
        "print(f\"The RMSE of the base model: {rmse:.3f}\")"
      ],
      "metadata": {
        "colab": {
          "base_uri": "https://localhost:8080/"
        },
        "id": "nUoEYJQvhate",
        "outputId": "ecac182c-4d87-41ea-f6f4-5f4b9ab0c962"
      },
      "execution_count": null,
      "outputs": [
        {
          "output_type": "stream",
          "name": "stdout",
          "text": [
            "The RMSE of the base model: 2.571\n"
          ]
        }
      ]
    },
    {
      "cell_type": "code",
      "source": [
        "# Parameters for XGBoost training\n",
        "params = {\"objective\": \"reg:squarederror\",   # Objective function for regression task\n",
        "          \"tree_method\": \"gpu_hist\"}         # Method for tree construction using GPU acceleration\n",
        "\n",
        "# Evaluation data to monitor performance during training\n",
        "evals = [(dtrain_reg, \"train\"), (dtest_reg, \"validation\")]  # List of tuples containing DMatrix and label for training and validation data"
      ],
      "metadata": {
        "id": "qy4mvMAiSp91"
      },
      "execution_count": null,
      "outputs": []
    },
    {
      "cell_type": "code",
      "source": [
        "# Number of boosting rounds\n",
        "n = 1000\n",
        "\n",
        "# Evaluation data to monitor performance during training\n",
        "evals = [(dtrain_reg, \"train\"), (dtest_reg, \"validation\")]  # List of tuples containing DMatrix and label for training and validation data\n",
        "\n",
        "# Training an XGBoost model with specified parameters and evaluating performance\n",
        "casualties_model = xgb.train(\n",
        "    params=params,              # Parameters for training the model\n",
        "    dtrain=dtrain_reg,          # Training data in DMatrix format\n",
        "    num_boost_round=n,          # Number of boosting rounds (iterations)\n",
        "    evals=evals,                # Evaluation sets to monitor performance\n",
        "    verbose_eval=25             # Frequency of printing evaluation results\n",
        ")"
      ],
      "metadata": {
        "colab": {
          "base_uri": "https://localhost:8080/"
        },
        "id": "CgUql5B0i0jx",
        "outputId": "b2abde53-e4eb-4d3c-d9b7-bf23ef24482b"
      },
      "execution_count": null,
      "outputs": [
        {
          "output_type": "stream",
          "name": "stdout",
          "text": [
            "[0]\ttrain-rmse:3.43601\tvalidation-rmse:2.02717\n",
            "[25]\ttrain-rmse:0.13520\tvalidation-rmse:2.57828\n",
            "[50]\ttrain-rmse:0.01283\tvalidation-rmse:2.57157\n",
            "[75]\ttrain-rmse:0.00132\tvalidation-rmse:2.57101\n",
            "[100]\ttrain-rmse:0.00093\tvalidation-rmse:2.57099\n",
            "[125]\ttrain-rmse:0.00093\tvalidation-rmse:2.57099\n",
            "[150]\ttrain-rmse:0.00093\tvalidation-rmse:2.57099\n",
            "[175]\ttrain-rmse:0.00093\tvalidation-rmse:2.57099\n",
            "[200]\ttrain-rmse:0.00093\tvalidation-rmse:2.57099\n",
            "[225]\ttrain-rmse:0.00093\tvalidation-rmse:2.57099\n",
            "[250]\ttrain-rmse:0.00093\tvalidation-rmse:2.57099\n",
            "[275]\ttrain-rmse:0.00093\tvalidation-rmse:2.57099\n",
            "[300]\ttrain-rmse:0.00093\tvalidation-rmse:2.57099\n",
            "[325]\ttrain-rmse:0.00093\tvalidation-rmse:2.57099\n",
            "[350]\ttrain-rmse:0.00093\tvalidation-rmse:2.57099\n",
            "[375]\ttrain-rmse:0.00093\tvalidation-rmse:2.57099\n",
            "[400]\ttrain-rmse:0.00093\tvalidation-rmse:2.57099\n",
            "[425]\ttrain-rmse:0.00093\tvalidation-rmse:2.57099\n",
            "[450]\ttrain-rmse:0.00093\tvalidation-rmse:2.57099\n",
            "[475]\ttrain-rmse:0.00093\tvalidation-rmse:2.57099\n",
            "[500]\ttrain-rmse:0.00093\tvalidation-rmse:2.57099\n",
            "[525]\ttrain-rmse:0.00093\tvalidation-rmse:2.57099\n",
            "[550]\ttrain-rmse:0.00093\tvalidation-rmse:2.57099\n",
            "[575]\ttrain-rmse:0.00093\tvalidation-rmse:2.57099\n",
            "[600]\ttrain-rmse:0.00093\tvalidation-rmse:2.57099\n",
            "[625]\ttrain-rmse:0.00093\tvalidation-rmse:2.57099\n",
            "[650]\ttrain-rmse:0.00093\tvalidation-rmse:2.57099\n",
            "[675]\ttrain-rmse:0.00093\tvalidation-rmse:2.57099\n",
            "[700]\ttrain-rmse:0.00093\tvalidation-rmse:2.57099\n",
            "[725]\ttrain-rmse:0.00093\tvalidation-rmse:2.57099\n",
            "[750]\ttrain-rmse:0.00093\tvalidation-rmse:2.57099\n",
            "[775]\ttrain-rmse:0.00093\tvalidation-rmse:2.57099\n",
            "[800]\ttrain-rmse:0.00093\tvalidation-rmse:2.57099\n",
            "[825]\ttrain-rmse:0.00093\tvalidation-rmse:2.57099\n",
            "[850]\ttrain-rmse:0.00093\tvalidation-rmse:2.57099\n",
            "[875]\ttrain-rmse:0.00093\tvalidation-rmse:2.57099\n",
            "[900]\ttrain-rmse:0.00093\tvalidation-rmse:2.57099\n",
            "[925]\ttrain-rmse:0.00093\tvalidation-rmse:2.57099\n",
            "[950]\ttrain-rmse:0.00093\tvalidation-rmse:2.57099\n",
            "[975]\ttrain-rmse:0.00093\tvalidation-rmse:2.57099\n",
            "[999]\ttrain-rmse:0.00093\tvalidation-rmse:2.57099\n"
          ]
        }
      ]
    },
    {
      "cell_type": "markdown",
      "source": [
        "As seen above, the model is most accurate towards the start."
      ],
      "metadata": {
        "id": "aC66vEavqjYE"
      }
    },
    {
      "cell_type": "code",
      "source": [
        "# Number of boosting rounds\n",
        "n = 10000\n",
        "\n",
        "# Training an XGBoost model with specified parameters, evaluating performance, and implementing early stopping\n",
        "casualties_model = xgb.train(\n",
        "    params=params,                          # Parameters for training the model\n",
        "    dtrain=dtrain_reg,                      # Training data in DMatrix format\n",
        "    num_boost_round=n,                      # Maximum number of boosting rounds (iterations)\n",
        "    evals=evals,                            # Evaluation sets to monitor performance\n",
        "    verbose_eval=1,                         # Frequency of printing evaluation results\n",
        "    early_stopping_rounds= 1                 # Number of rounds with no improvement after which training will be stopped\n",
        ")"
      ],
      "metadata": {
        "colab": {
          "base_uri": "https://localhost:8080/"
        },
        "id": "P4TwzIvrRuk4",
        "outputId": "8178f334-f7b1-42be-b0b1-dc8494d7ae62"
      },
      "execution_count": null,
      "outputs": [
        {
          "output_type": "stream",
          "name": "stdout",
          "text": [
            "[0]\ttrain-rmse:3.43601\tvalidation-rmse:2.02717\n"
          ]
        }
      ]
    },
    {
      "cell_type": "markdown",
      "source": [
        "After testing different early stopping rounds, 1 gives the best model."
      ],
      "metadata": {
        "id": "Dto2smyWwU0h"
      }
    },
    {
      "cell_type": "code",
      "source": [
        "results = xgb.cv(\n",
        "    params, dtrain_reg,\n",
        "    num_boost_round = n,\n",
        "    nfold = 5,\n",
        "    early_stopping_rounds = 20\n",
        ")"
      ],
      "metadata": {
        "id": "_MWj0BNbTTah"
      },
      "execution_count": null,
      "outputs": []
    },
    {
      "cell_type": "code",
      "source": [
        "results.head()"
      ],
      "metadata": {
        "colab": {
          "base_uri": "https://localhost:8080/",
          "height": 81
        },
        "id": "nVv0ITUy1eAk",
        "outputId": "07e8172a-8492-4044-f507-93015c5b559d"
      },
      "execution_count": null,
      "outputs": [
        {
          "output_type": "execute_result",
          "data": {
            "text/plain": [
              "   train-rmse-mean  train-rmse-std  test-rmse-mean  test-rmse-std\n",
              "0         3.366259        0.228203        3.986569       1.241893"
            ],
            "text/html": [
              "\n",
              "  <div id=\"df-164deace-50f1-49ce-b83d-05440693d0f5\" class=\"colab-df-container\">\n",
              "    <div>\n",
              "<style scoped>\n",
              "    .dataframe tbody tr th:only-of-type {\n",
              "        vertical-align: middle;\n",
              "    }\n",
              "\n",
              "    .dataframe tbody tr th {\n",
              "        vertical-align: top;\n",
              "    }\n",
              "\n",
              "    .dataframe thead th {\n",
              "        text-align: right;\n",
              "    }\n",
              "</style>\n",
              "<table border=\"1\" class=\"dataframe\">\n",
              "  <thead>\n",
              "    <tr style=\"text-align: right;\">\n",
              "      <th></th>\n",
              "      <th>train-rmse-mean</th>\n",
              "      <th>train-rmse-std</th>\n",
              "      <th>test-rmse-mean</th>\n",
              "      <th>test-rmse-std</th>\n",
              "    </tr>\n",
              "  </thead>\n",
              "  <tbody>\n",
              "    <tr>\n",
              "      <th>0</th>\n",
              "      <td>3.366259</td>\n",
              "      <td>0.228203</td>\n",
              "      <td>3.986569</td>\n",
              "      <td>1.241893</td>\n",
              "    </tr>\n",
              "  </tbody>\n",
              "</table>\n",
              "</div>\n",
              "    <div class=\"colab-df-buttons\">\n",
              "\n",
              "  <div class=\"colab-df-container\">\n",
              "    <button class=\"colab-df-convert\" onclick=\"convertToInteractive('df-164deace-50f1-49ce-b83d-05440693d0f5')\"\n",
              "            title=\"Convert this dataframe to an interactive table.\"\n",
              "            style=\"display:none;\">\n",
              "\n",
              "  <svg xmlns=\"http://www.w3.org/2000/svg\" height=\"24px\" viewBox=\"0 -960 960 960\">\n",
              "    <path d=\"M120-120v-720h720v720H120Zm60-500h600v-160H180v160Zm220 220h160v-160H400v160Zm0 220h160v-160H400v160ZM180-400h160v-160H180v160Zm440 0h160v-160H620v160ZM180-180h160v-160H180v160Zm440 0h160v-160H620v160Z\"/>\n",
              "  </svg>\n",
              "    </button>\n",
              "\n",
              "  <style>\n",
              "    .colab-df-container {\n",
              "      display:flex;\n",
              "      gap: 12px;\n",
              "    }\n",
              "\n",
              "    .colab-df-convert {\n",
              "      background-color: #E8F0FE;\n",
              "      border: none;\n",
              "      border-radius: 50%;\n",
              "      cursor: pointer;\n",
              "      display: none;\n",
              "      fill: #1967D2;\n",
              "      height: 32px;\n",
              "      padding: 0 0 0 0;\n",
              "      width: 32px;\n",
              "    }\n",
              "\n",
              "    .colab-df-convert:hover {\n",
              "      background-color: #E2EBFA;\n",
              "      box-shadow: 0px 1px 2px rgba(60, 64, 67, 0.3), 0px 1px 3px 1px rgba(60, 64, 67, 0.15);\n",
              "      fill: #174EA6;\n",
              "    }\n",
              "\n",
              "    .colab-df-buttons div {\n",
              "      margin-bottom: 4px;\n",
              "    }\n",
              "\n",
              "    [theme=dark] .colab-df-convert {\n",
              "      background-color: #3B4455;\n",
              "      fill: #D2E3FC;\n",
              "    }\n",
              "\n",
              "    [theme=dark] .colab-df-convert:hover {\n",
              "      background-color: #434B5C;\n",
              "      box-shadow: 0px 1px 3px 1px rgba(0, 0, 0, 0.15);\n",
              "      filter: drop-shadow(0px 1px 2px rgba(0, 0, 0, 0.3));\n",
              "      fill: #FFFFFF;\n",
              "    }\n",
              "  </style>\n",
              "\n",
              "    <script>\n",
              "      const buttonEl =\n",
              "        document.querySelector('#df-164deace-50f1-49ce-b83d-05440693d0f5 button.colab-df-convert');\n",
              "      buttonEl.style.display =\n",
              "        google.colab.kernel.accessAllowed ? 'block' : 'none';\n",
              "\n",
              "      async function convertToInteractive(key) {\n",
              "        const element = document.querySelector('#df-164deace-50f1-49ce-b83d-05440693d0f5');\n",
              "        const dataTable =\n",
              "          await google.colab.kernel.invokeFunction('convertToInteractive',\n",
              "                                                    [key], {});\n",
              "        if (!dataTable) return;\n",
              "\n",
              "        const docLinkHtml = 'Like what you see? Visit the ' +\n",
              "          '<a target=\"_blank\" href=https://colab.research.google.com/notebooks/data_table.ipynb>data table notebook</a>'\n",
              "          + ' to learn more about interactive tables.';\n",
              "        element.innerHTML = '';\n",
              "        dataTable['output_type'] = 'display_data';\n",
              "        await google.colab.output.renderOutput(dataTable, element);\n",
              "        const docLink = document.createElement('div');\n",
              "        docLink.innerHTML = docLinkHtml;\n",
              "        element.appendChild(docLink);\n",
              "      }\n",
              "    </script>\n",
              "  </div>\n",
              "\n",
              "    </div>\n",
              "  </div>\n"
            ],
            "application/vnd.google.colaboratory.intrinsic+json": {
              "type": "dataframe",
              "variable_name": "results",
              "summary": "{\n  \"name\": \"results\",\n  \"rows\": 1,\n  \"fields\": [\n    {\n      \"column\": \"train-rmse-mean\",\n      \"properties\": {\n        \"dtype\": \"number\",\n        \"std\": null,\n        \"min\": 3.3662587582502264,\n        \"max\": 3.3662587582502264,\n        \"num_unique_values\": 1,\n        \"samples\": [\n          3.3662587582502264\n        ],\n        \"semantic_type\": \"\",\n        \"description\": \"\"\n      }\n    },\n    {\n      \"column\": \"train-rmse-std\",\n      \"properties\": {\n        \"dtype\": \"number\",\n        \"std\": null,\n        \"min\": 0.22820276811251475,\n        \"max\": 0.22820276811251475,\n        \"num_unique_values\": 1,\n        \"samples\": [\n          0.22820276811251475\n        ],\n        \"semantic_type\": \"\",\n        \"description\": \"\"\n      }\n    },\n    {\n      \"column\": \"test-rmse-mean\",\n      \"properties\": {\n        \"dtype\": \"number\",\n        \"std\": null,\n        \"min\": 3.9865685964212325,\n        \"max\": 3.9865685964212325,\n        \"num_unique_values\": 1,\n        \"samples\": [\n          3.9865685964212325\n        ],\n        \"semantic_type\": \"\",\n        \"description\": \"\"\n      }\n    },\n    {\n      \"column\": \"test-rmse-std\",\n      \"properties\": {\n        \"dtype\": \"number\",\n        \"std\": null,\n        \"min\": 1.24189326748365,\n        \"max\": 1.24189326748365,\n        \"num_unique_values\": 1,\n        \"samples\": [\n          1.24189326748365\n        ],\n        \"semantic_type\": \"\",\n        \"description\": \"\"\n      }\n    }\n  ]\n}"
            }
          },
          "metadata": {},
          "execution_count": 168
        }
      ]
    },
    {
      "cell_type": "code",
      "source": [
        "# Displaying the best cv test rmse\n",
        "best_rmse = results['test-rmse-mean'].min()\n",
        "best_rmse"
      ],
      "metadata": {
        "id": "LLJCmRcgTcYh",
        "colab": {
          "base_uri": "https://localhost:8080/"
        },
        "outputId": "5edc22fd-83a1-42d6-dec6-d567ed9107da"
      },
      "execution_count": null,
      "outputs": [
        {
          "output_type": "execute_result",
          "data": {
            "text/plain": [
              "3.9865685964212325"
            ]
          },
          "metadata": {},
          "execution_count": 169
        }
      ]
    },
    {
      "cell_type": "markdown",
      "source": [
        "Since my CV RMSE isn't extremely close to my single model RMSE, this suggests that my model may be overfitting a bit.\n",
        "\n",
        "But overall, since my single model rmse isn't super far from my CV RMSE, the model is likely going to generalize well to unseen data. When the CV RMSE and normal RMSE are similar, it suggests that the model's performance on the validation sets used in cross-validation is consistent with its performance on the test set (or unseen data) when trained on the entire dataset. This is a positive outcome, as it suggests that the model is not overfitting to the training data."
      ],
      "metadata": {
        "id": "zroO3AKr2KXU"
      }
    },
    {
      "cell_type": "code",
      "source": [
        "# Ploting feature importance\n",
        "xgb.plot_importance(casualties_model)\n",
        "plt.show()"
      ],
      "metadata": {
        "id": "lTfY0jx6UpjW",
        "colab": {
          "base_uri": "https://localhost:8080/",
          "height": 472
        },
        "outputId": "4347fcd4-d420-4bf0-bb3b-8ce68c8154cd"
      },
      "execution_count": null,
      "outputs": [
        {
          "output_type": "display_data",
          "data": {
            "text/plain": [
              "<Figure size 640x480 with 1 Axes>"
            ],
            "image/png": "[encoded data removed]"
          },
          "metadata": {}
        }
      ]
    },
    {
      "cell_type": "markdown",
      "source": [
        "As seen above, time,year, the day of week, and shooter relationship were the four most significant features."
      ],
      "metadata": {
        "id": "RORZwXeXq3G4"
      }
    },
    {
      "cell_type": "markdown",
      "source": [
        "# Futher analysis: visualizations"
      ],
      "metadata": {
        "id": "g8iXMLBtr8UB"
      }
    },
    {
      "cell_type": "code",
      "source": [
        "# Grouping the data by shooting type and summing the casualties\n",
        "casualties_per_type = shootings.groupby('shooter_relationship1')['casualties'].sum()\n",
        "\n",
        "# Sorting the grouped data by casualties in descending order and selecting the top 5\n",
        "top_5_types = casualties_per_type.sort_values(ascending=False).head(5)\n",
        "\n",
        "# Plotting a pie chart\n",
        "plt.figure(figsize=(8, 8))\n",
        "plt.pie(top_5_types, labels=top_5_types.index, autopct='%1.1f%%', startangle=140)\n",
        "plt.title('Casualties Per Shooter Relationship (Top 5)')\n",
        "plt.axis('equal')  # Equal aspect ratio ensures that pie is drawn as a circle.\n",
        "plt.show()"
      ],
      "metadata": {
        "colab": {
          "base_uri": "https://localhost:8080/",
          "height": 684
        },
        "id": "oblYiHT5rYtT",
        "outputId": "83092c5e-5521-4318-923b-01fed86b319b"
      },
      "execution_count": null,
      "outputs": [
        {
          "output_type": "display_data",
          "data": {
            "text/plain": [
              "<Figure size 800x800 with 1 Axes>"
            ],
            "image/png": "[encoded data removed]"
          },
          "metadata": {}
        }
      ]
    },
    {
      "cell_type": "markdown",
      "source": [
        "As seen above, students cause the most casualties."
      ],
      "metadata": {
        "id": "ybbfycfOvt44"
      }
    },
    {
      "cell_type": "code",
      "source": [
        "# Grouping the data by day of the week and summing the casualties\n",
        "casualties_per_day = shootings.groupby('day_of_week')['casualties'].sum()\n",
        "\n",
        "# Plotting a pie chart\n",
        "plt.figure(figsize=(8, 8))\n",
        "colors = plt.cm.tab10.colors  # Using colors from the 'tab10' colormap\n",
        "casualties_per_day.plot(kind='pie', autopct='%1.1f%%', colors=colors)\n",
        "plt.title('Casualties per Day of Week')\n",
        "plt.ylabel('')\n",
        "plt.axis('equal')  # Equal aspect ratio ensures that pie is drawn as a circle\n",
        "plt.show()"
      ],
      "metadata": {
        "id": "1O5j4Cwovpsb",
        "colab": {
          "base_uri": "https://localhost:8080/",
          "height": 675
        },
        "outputId": "33ce71c5-08a6-450b-f3f4-69a38c886d7d"
      },
      "execution_count": null,
      "outputs": [
        {
          "output_type": "display_data",
          "data": {
            "text/plain": [
              "<Figure size 800x800 with 1 Axes>"
            ],
            "image/png": "[encoded data removed]"
          },
          "metadata": {}
        }
      ]
    },
    {
      "cell_type": "markdown",
      "source": [
        "As seen above, Tuesday has a disproportionatly large ammount of casualties."
      ],
      "metadata": {
        "id": "BXWe2ESkDQpN"
      }
    },
    {
      "cell_type": "code",
      "source": [
        "# Grouping the shooting data by year and summing the casualties for each year\n",
        "grouped_data = shootings.groupby('year')['casualties'].sum()\n",
        "\n",
        "# Sorting the grouped data by total casualties in descending order\n",
        "sorted_categories = grouped_data.sort_values(ascending=False)\n",
        "\n",
        "# Creating a bar graph to visualize casualties per year\n",
        "plt.figure(figsize=(8, 6))  # Setting the figure size\n",
        "sorted_categories.plot(kind='bar', color='skyblue')  # Plotting a bar graph with sorted data, specifying color\n",
        "plt.title('Casualties per Year')  # Setting the title of the plot\n",
        "plt.ylabel('Casualties')  # Labeling the y-axis\n",
        "plt.xlabel('Year')  # Labeling the x-axis\n",
        "plt.xticks(rotation=45)  # Rotating x-axis labels for better readability\n",
        "plt.grid(axis='y')  # Adding grid lines only to the y-axis\n",
        "plt.tight_layout()  # Adjusting layout to prevent clipping of labels\n",
        "plt.show()  # Displaying the plot"
      ],
      "metadata": {
        "colab": {
          "base_uri": "https://localhost:8080/",
          "height": 607
        },
        "id": "KFb9X9vRgaGD",
        "outputId": "8f0ac976-a004-4891-f5e7-439f5f36be7f"
      },
      "execution_count": null,
      "outputs": [
        {
          "output_type": "display_data",
          "data": {
            "text/plain": [
              "<Figure size 800x600 with 1 Axes>"
            ],
            "image/png": "[encoded data removed]"
          },
          "metadata": {}
        }
      ]
    },
    {
      "cell_type": "markdown",
      "source": [
        "As seen above, 2018 and 2022 had an unusually high ammount of casualties."
      ],
      "metadata": {
        "id": "zT5FejH_vhr7"
      }
    },
    {
      "cell_type": "code",
      "source": [
        "# Grouping the shooting data by time and summing the casualties for each time\n",
        "grouped_data = shootings.groupby('time')['casualties'].sum()\n",
        "\n",
        "# Sorting the grouped data by total casualties in descending order\n",
        "sorted_categories = grouped_data.sort_values(ascending=False)\n",
        "\n",
        "# Creating a bar graph to visualize casualties per time\n",
        "plt.figure(figsize=(8, 6))  # Setting the figure size\n",
        "sorted_categories.plot(kind='bar', color='skyblue')  # Plotting a bar graph with sorted data, specifying color\n",
        "plt.title('Casualties per Time')  # Setting the title of the plot\n",
        "plt.ylabel('Casualties')  # Labeling the y-axis\n",
        "plt.xlabel('Time')  # Labeling the x-axis\n",
        "plt.xticks(rotation=45)  # Rotating x-axis labels for better readability\n",
        "plt.grid(axis='y')  # Adding grid lines only to the y-axis\n",
        "plt.tight_layout()  # Adjusting layout to prevent clipping of labels\n",
        "plt.show()  # Displaying the plot"
      ],
      "metadata": {
        "id": "7SGnhgkjg7QU",
        "colab": {
          "base_uri": "https://localhost:8080/",
          "height": 607
        },
        "outputId": "92dae479-be84-40f0-ff10-61776cce844c"
      },
      "execution_count": null,
      "outputs": [
        {
          "output_type": "display_data",
          "data": {
            "text/plain": [
              "<Figure size 800x600 with 1 Axes>"
            ],
            "image/png": "[encoded data removed]"
          },
          "metadata": {}
        }
      ]
    },
    {
      "cell_type": "markdown",
      "source": [
        "As seen above, the majority of casualties occur in the morning or around lunch time."
      ],
      "metadata": {
        "id": "GqRkq1sRvNku"
      }
    },
    {
      "cell_type": "markdown",
      "source": [
        "# Gradient boost:\n",
        "\n",
        "Gradient Boosting is a powerful ensemble learning technique used for both regression and classification tasks. It works by building a series of decision trees sequentially, with each tree correcting errors made by the previous one."
      ],
      "metadata": {
        "id": "yct6GHy8VwuJ"
      }
    },
    {
      "cell_type": "code",
      "source": [
        "# Define hyperparameters for Gradient Boosting Regressor\n",
        "params = {\n",
        "    \"n_estimators\": 500,             # Number of boosting stages (trees) to be used\n",
        "    \"max_depth\": 4,                  # Maximum depth of the individual trees\n",
        "    \"min_samples_split\": 5,          # Minimum number of samples required to split an internal node\n",
        "    \"learning_rate\": 0.01,           # Learning rate (shrinkage) to reduce the contribution of each tree\n",
        "    \"loss\": \"squared_error\",         # Loss function to be optimized\n",
        "}"
      ],
      "metadata": {
        "id": "3cSDjNcbVuwL"
      },
      "execution_count": null,
      "outputs": []
    },
    {
      "cell_type": "code",
      "source": [
        "# Selecting columns with categorical data\n",
        "categorical_cols = shootings.select_dtypes(include=['object']).columns\n",
        "\n",
        "# Initializing LabelEncoder\n",
        "label_encoder = LabelEncoder()\n",
        "\n",
        "# Encoding categorical columns using LabelEncoder\n",
        "for column in categorical_cols:\n",
        "    shootings[column] = label_encoder.fit_transform(shootings[column])\n"
      ],
      "metadata": {
        "id": "NPs37plrW1pL"
      },
      "execution_count": null,
      "outputs": []
    },
    {
      "cell_type": "code",
      "source": [
        "# Checking the datatypes of the columns to see if the encoding worked\n",
        "shootings.dtypes"
      ],
      "metadata": {
        "id": "01A22xJw4QXE",
        "colab": {
          "base_uri": "https://localhost:8080/"
        },
        "outputId": "dbdc6d4c-3f05-4060-e9ab-07c496712716"
      },
      "execution_count": null,
      "outputs": [
        {
          "output_type": "execute_result",
          "data": {
            "text/plain": [
              "year                                          int64\n",
              "time                                          int64\n",
              "day_of_week                                   int64\n",
              "school_type                                   int64\n",
              "enrollment                                  float64\n",
              "casualties                                    int64\n",
              "shooting_type                                 int64\n",
              "age_shooter1                                float64\n",
              "gender_shooter1                               int64\n",
              "race_ethnicity_shooter1                       int64\n",
              "shooter_relationship1                         int64\n",
              "shooter_deceased1                           float64\n",
              "resource_officer                              int64\n",
              "staffing                                    float64\n",
              "low_grade                                     int64\n",
              "high_grade                                    int64\n",
              "state_fips                                    int64\n",
              "white_average                               float64\n",
              "black_average                               float64\n",
              "hispanic_average                            float64\n",
              "asian_average                               float64\n",
              "american_indian_alaska_native_average       float64\n",
              "hawaiian_native_pacific_islander_average    float64\n",
              "dtype: object"
            ]
          },
          "metadata": {},
          "execution_count": 177
        }
      ]
    },
    {
      "cell_type": "code",
      "source": [
        "# Checking for missing values in the shootings DataFrame\n",
        "missing_values = shootings.isnull().sum()\n",
        "\n",
        "# Filtering columns with missing values\n",
        "columns_with_missing_data = missing_values[missing_values > 0]\n",
        "\n",
        "# Getting the count of columns with missing data\n",
        "num_columns_with_missing_data = len(columns_with_missing_data)\n",
        "\n",
        "# Printing the result\n",
        "print(\"Number of columns with missing data:\", num_columns_with_missing_data)\n",
        "print(\"\\nColumns with missing data:\")\n",
        "print(columns_with_missing_data)"
      ],
      "metadata": {
        "id": "-PZYTVYo8Ys6",
        "colab": {
          "base_uri": "https://localhost:8080/"
        },
        "outputId": "1d05c5a0-5740-4bdc-f518-35e6def0a5eb"
      },
      "execution_count": null,
      "outputs": [
        {
          "output_type": "stream",
          "name": "stdout",
          "text": [
            "Number of columns with missing data: 9\n",
            "\n",
            "Columns with missing data:\n",
            "age_shooter1                                113\n",
            "shooter_deceased1                           125\n",
            "staffing                                     24\n",
            "white_average                                10\n",
            "black_average                                10\n",
            "hispanic_average                             10\n",
            "asian_average                                10\n",
            "american_indian_alaska_native_average        11\n",
            "hawaiian_native_pacific_islander_average    125\n",
            "dtype: int64\n"
          ]
        }
      ]
    },
    {
      "cell_type": "code",
      "source": [
        "# Filling missing values with the mean for specific columns using inplace=True to modify the DataFrame in-place\n",
        "# Had to manually fill the values in because of an unknown error when attempting to fill the whole data set at once\n",
        "shootings['staffing'].fillna(shootings['staffing'].mean(), inplace=True)\n",
        "shootings['enrollment'].fillna(shootings['enrollment'].mean(), inplace=True)\n",
        "shootings['age_shooter1'].fillna(shootings['age_shooter1'].mean(), inplace=True)\n",
        "shootings['shooter_deceased1'].fillna(shootings['shooter_deceased1'].mean(), inplace=True)\n",
        "shootings['white_average'].fillna(shootings['white_average'].mean(), inplace=True)\n",
        "shootings['black_average'].fillna(shootings['black_average'].mean(), inplace=True)\n",
        "shootings['hispanic_average'].fillna(shootings['hispanic_average'].mean(), inplace=True)\n",
        "shootings['asian_average'].fillna(shootings['asian_average'].mean(), inplace=True)\n",
        "shootings['american_indian_alaska_native_average'].fillna(shootings['american_indian_alaska_native_average'].mean(), inplace=True)\n",
        "shootings['hawaiian_native_pacific_islander_average'].fillna(shootings['hawaiian_native_pacific_islander_average'].mean(), inplace=True)"
      ],
      "metadata": {
        "id": "HiTFN2tQ8qPB"
      },
      "execution_count": null,
      "outputs": []
    },
    {
      "cell_type": "code",
      "source": [
        "# Checking for missing values in the shootings DataFrame\n",
        "missing_values = shootings.isnull().sum()\n",
        "\n",
        "# Filtering columns with missing values\n",
        "columns_with_missing_data = missing_values[missing_values > 0]\n",
        "\n",
        "# Getting the count of columns with missing data\n",
        "num_columns_with_missing_data = len(columns_with_missing_data)\n",
        "\n",
        "# Printing the result\n",
        "print(\"Number of columns with missing data:\", num_columns_with_missing_data)\n",
        "print(\"\\nColumns with missing data:\")\n",
        "print(columns_with_missing_data)"
      ],
      "metadata": {
        "id": "_jillZLY-CT6",
        "colab": {
          "base_uri": "https://localhost:8080/"
        },
        "outputId": "ed4e20f0-cea6-4afd-d0fe-df7fa549d985"
      },
      "execution_count": null,
      "outputs": [
        {
          "output_type": "stream",
          "name": "stdout",
          "text": [
            "Number of columns with missing data: 0\n",
            "\n",
            "Columns with missing data:\n",
            "Series([], dtype: int64)\n"
          ]
        }
      ]
    },
    {
      "cell_type": "code",
      "source": [
        "# Manually filling missing values with mode for specific columns using inplace=True to modify the DataFrame in-place\n",
        "# Had to manually fill the values in because of an unknown error when attempting to fill the whole data set at once\n",
        "\n",
        "mode_value = shootings['time'].mode()[0]\n",
        "shootings['time'].fillna(mode_value, inplace=True)\n",
        "mode_value = shootings['gender_shooter1'].mode()[0]\n",
        "shootings['gender_shooter1'].fillna(mode_value, inplace=True)\n",
        "mode_value = shootings['race_ethnicity_shooter1'].mode()[0]\n",
        "shootings['race_ethnicity_shooter1'].fillna(mode_value, inplace=True)\n",
        "mode_value = shootings['shooter_relationship1'].mode()[0]\n",
        "shootings['shooter_relationship1'].fillna(mode_value, inplace=True)\n",
        "mode_value = shootings['low_grade'].mode()[0]\n",
        "shootings['low_grade'].fillna(mode_value, inplace=True)\n",
        "mode_value = shootings['high_grade'].mode()[0]\n",
        "shootings['high_grade'].fillna(mode_value, inplace=True)"
      ],
      "metadata": {
        "id": "XWTHClJ4-gYB"
      },
      "execution_count": null,
      "outputs": []
    },
    {
      "cell_type": "code",
      "source": [
        "# Defining the target and the features\n",
        "X,y = shootings.drop('casualties', axis = 1), shootings[[\"casualties\"]]"
      ],
      "metadata": {
        "id": "s1J3Wr80U2Ma"
      },
      "execution_count": null,
      "outputs": []
    },
    {
      "cell_type": "code",
      "source": [
        "# Splitting the data\n",
        "X_train, X_test, y_train, y_test = train_test_split(\n",
        "    X,y, test_size = 0.2, random_state = 13\n",
        ")"
      ],
      "metadata": {
        "id": "yzXFIlmWVCWW"
      },
      "execution_count": null,
      "outputs": []
    },
    {
      "cell_type": "code",
      "source": [
        "# Initializing Gradient Boosting Regressor with specified hyperparameters\n",
        "reg = ensemble.GradientBoostingRegressor(**params)\n",
        "\n",
        "# Training the model on the training data\n",
        "reg.fit(X_train, y_train)"
      ],
      "metadata": {
        "id": "Vlqe21F3V6Eh",
        "colab": {
          "base_uri": "https://localhost:8080/",
          "height": 92
        },
        "outputId": "7189ca4f-93b4-439b-e979-5316f5d1620f"
      },
      "execution_count": null,
      "outputs": [
        {
          "output_type": "execute_result",
          "data": {
            "text/plain": [
              "GradientBoostingRegressor(learning_rate=0.01, max_depth=4, min_samples_split=5,\n",
              "                          n_estimators=500)"
            ],
            "text/html": [
              "<style>#sk-container-id-4 {color: black;background-color: white;}#sk-container-id-4 pre{padding: 0;}#sk-container-id-4 div.sk-toggleable {background-color: white;}#sk-container-id-4 label.sk-toggleable__label {cursor: pointer;display: block;width: 100%;margin-bottom: 0;padding: 0.3em;box-sizing: border-box;text-align: center;}#sk-container-id-4 label.sk-toggleable__label-arrow:before {content: \"▸\";float: left;margin-right: 0.25em;color: #696969;}#sk-container-id-4 label.sk-toggleable__label-arrow:hover:before {color: black;}#sk-container-id-4 div.sk-estimator:hover label.sk-toggleable__label-arrow:before {color: black;}#sk-container-id-4 div.sk-toggleable__content {max-height: 0;max-width: 0;overflow: hidden;text-align: left;background-color: #f0f8ff;}#sk-container-id-4 div.sk-toggleable__content pre {margin: 0.2em;color: black;border-radius: 0.25em;background-color: #f0f8ff;}#sk-container-id-4 input.sk-toggleable__control:checked~div.sk-toggleable__content {max-height: 200px;max-width: 100%;overflow: auto;}#sk-container-id-4 input.sk-toggleable__control:checked~label.sk-toggleable__label-arrow:before {content: \"▾\";}#sk-container-id-4 div.sk-estimator input.sk-toggleable__control:checked~label.sk-toggleable__label {background-color: #d4ebff;}#sk-container-id-4 div.sk-label input.sk-toggleable__control:checked~label.sk-toggleable__label {background-color: #d4ebff;}#sk-container-id-4 input.sk-hidden--visually {border: 0;clip: rect(1px 1px 1px 1px);clip: rect(1px, 1px, 1px, 1px);height: 1px;margin: -1px;overflow: hidden;padding: 0;position: absolute;width: 1px;}#sk-container-id-4 div.sk-estimator {font-family: monospace;background-color: #f0f8ff;border: 1px dotted black;border-radius: 0.25em;box-sizing: border-box;margin-bottom: 0.5em;}#sk-container-id-4 div.sk-estimator:hover {background-color: #d4ebff;}#sk-container-id-4 div.sk-parallel-item::after {content: \"\";width: 100%;border-bottom: 1px solid gray;flex-grow: 1;}#sk-container-id-4 div.sk-label:hover label.sk-toggleable__label {background-color: #d4ebff;}#sk-container-id-4 div.sk-serial::before {content: \"\";position: absolute;border-left: 1px solid gray;box-sizing: border-box;top: 0;bottom: 0;left: 50%;z-index: 0;}#sk-container-id-4 div.sk-serial {display: flex;flex-direction: column;align-items: center;background-color: white;padding-right: 0.2em;padding-left: 0.2em;position: relative;}#sk-container-id-4 div.sk-item {position: relative;z-index: 1;}#sk-container-id-4 div.sk-parallel {display: flex;align-items: stretch;justify-content: center;background-color: white;position: relative;}#sk-container-id-4 div.sk-item::before, #sk-container-id-4 div.sk-parallel-item::before {content: \"\";position: absolute;border-left: 1px solid gray;box-sizing: border-box;top: 0;bottom: 0;left: 50%;z-index: -1;}#sk-container-id-4 div.sk-parallel-item {display: flex;flex-direction: column;z-index: 1;position: relative;background-color: white;}#sk-container-id-4 div.sk-parallel-item:first-child::after {align-self: flex-end;width: 50%;}#sk-container-id-4 div.sk-parallel-item:last-child::after {align-self: flex-start;width: 50%;}#sk-container-id-4 div.sk-parallel-item:only-child::after {width: 0;}#sk-container-id-4 div.sk-dashed-wrapped {border: 1px dashed gray;margin: 0 0.4em 0.5em 0.4em;box-sizing: border-box;padding-bottom: 0.4em;background-color: white;}#sk-container-id-4 div.sk-label label {font-family: monospace;font-weight: bold;display: inline-block;line-height: 1.2em;}#sk-container-id-4 div.sk-label-container {text-align: center;}#sk-container-id-4 div.sk-container {/* jupyter's `normalize.less` sets `[hidden] { display: none; }` but bootstrap.min.css set `[hidden] { display: none !important; }` so we also need the `!important` here to be able to override the default hidden behavior on the sphinx rendered scikit-learn.org. See: https://github.com/scikit-learn/scikit-learn/issues/21755 */display: inline-block !important;position: relative;}#sk-container-id-4 div.sk-text-repr-fallback {display: none;}</style><div id=\"sk-container-id-4\" class=\"sk-top-container\"><div class=\"sk-text-repr-fallback\"><pre>GradientBoostingRegressor(learning_rate=0.01, max_depth=4, min_samples_split=5,\n",
              "                          n_estimators=500)</pre><b>In a Jupyter environment, please rerun this cell to show the HTML representation or trust the notebook. <br />On GitHub, the HTML representation is unable to render, please try loading this page with nbviewer.org.</b></div><div class=\"sk-container\" hidden><div class=\"sk-item\"><div class=\"sk-estimator sk-toggleable\"><input class=\"sk-toggleable__control sk-hidden--visually\" id=\"sk-estimator-id-4\" type=\"checkbox\" checked><label for=\"sk-estimator-id-4\" class=\"sk-toggleable__label sk-toggleable__label-arrow\">GradientBoostingRegressor</label><div class=\"sk-toggleable__content\"><pre>GradientBoostingRegressor(learning_rate=0.01, max_depth=4, min_samples_split=5,\n",
              "                          n_estimators=500)</pre></div></div></div></div></div>"
            ]
          },
          "metadata": {},
          "execution_count": 184
        }
      ]
    },
    {
      "cell_type": "code",
      "source": [
        "# Calculating Root Mean Squared Error (RMSE) on the test set\n",
        "mse = mean_squared_error(y_test, reg.predict(X_test), squared=False)\n",
        "\n",
        "# Printing the RMSE\n",
        "print(\"The root mean squared error (RMSE) on the test set: {:.4f}\".format(mse))"
      ],
      "metadata": {
        "id": "N-1fLyyxVK3d",
        "colab": {
          "base_uri": "https://localhost:8080/"
        },
        "outputId": "8126ada4-c3f3-434c-a09c-5de0758fd6e5"
      },
      "execution_count": null,
      "outputs": [
        {
          "output_type": "stream",
          "name": "stdout",
          "text": [
            "The root mean squared error (RMSE) on the test set: 4.7207\n"
          ]
        }
      ]
    },
    {
      "cell_type": "markdown",
      "source": [
        "As seen above, the RMSE of the gradient boosting model is lower than the RMSE of the XGBoost model, which is why I analysed the XGBoost model."
      ],
      "metadata": {
        "id": "jliPGv9yu_64"
      }
    }
  ]
}